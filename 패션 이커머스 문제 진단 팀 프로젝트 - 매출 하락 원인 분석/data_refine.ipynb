{
  "cells": [
    {
      "cell_type": "markdown",
      "metadata": {
        "id": "s37dEnipcjbe"
      },
      "source": [
        "# 데이터 전처리\n",
        "\n"
      ]
    },
    {
      "cell_type": "code",
      "execution_count": 1,
      "metadata": {
        "colab": {
          "base_uri": "https://localhost:8080/"
        },
        "id": "OIeO_6tRiUGw",
        "outputId": "9474dfcb-cce9-4b77-b8b3-e8f8c2ce728f"
      },
      "outputs": [],
      "source": [
        "import pandas as pd\n",
        "import numpy as np\n",
        "import seaborn as sns\n",
        "import matplotlib.pyplot as plt\n",
        "import datetime\n",
        "import os"
      ]
    },
    {
      "cell_type": "code",
      "execution_count": 2,
      "metadata": {},
      "outputs": [],
      "source": [
        "# 결측치 처리 함수\n",
        "def replace_NaN (df, col, replacement):\n",
        "    df[col] = df[col].fillna(replacement)"
      ]
    },
    {
      "cell_type": "markdown",
      "metadata": {
        "id": "gljVMd6NdKjz"
      },
      "source": [
        "### product 데이터 전처리 통합"
      ]
    },
    {
      "cell_type": "code",
      "execution_count": 3,
      "metadata": {
        "colab": {
          "base_uri": "https://localhost:8080/"
        },
        "id": "C4UzDQbPAFkQ",
        "outputId": "bdee6c32-195a-4b0f-e50f-b1ccc9f4c324"
      },
      "outputs": [
        {
          "data": {
            "text/plain": [
              "id                      0\n",
              "gender                  0\n",
              "masterCategory          0\n",
              "subCategory             0\n",
              "articleType             0\n",
              "baseColour             15\n",
              "season                 21\n",
              "year                    1\n",
              "usage                 317\n",
              "productDisplayName      7\n",
              "dtype: int64"
            ]
          },
          "execution_count": 3,
          "metadata": {},
          "output_type": "execute_result"
        }
      ],
      "source": [
        "# product table 가져오기\n",
        "base_path = os.getcwd()\n",
        "\n",
        "# csv\n",
        "product = pd.read_csv(base_path + '/product.csv')\n",
        "product.head()\n",
        "\n",
        "# 결측치 확인\n",
        "product.isnull().sum()"
      ]
    },
    {
      "cell_type": "code",
      "execution_count": 4,
      "metadata": {},
      "outputs": [],
      "source": [
        "# 결측치 unknown으로 대체\n",
        "cols = ['baseColour', 'season', 'year', 'usage', 'productDisplayName']\n",
        "for col in cols:\n",
        "    replace_NaN(product, col, 'unknown')"
      ]
    },
    {
      "cell_type": "code",
      "execution_count": 5,
      "metadata": {
        "colab": {
          "base_uri": "https://localhost:8080/"
        },
        "id": "LqxHIF-FAgV4",
        "outputId": "2b2e7045-d952-4c79-e645-dc7d9ec0b50e"
      },
      "outputs": [
        {
          "data": {
            "text/plain": [
              "0"
            ]
          },
          "execution_count": 5,
          "metadata": {},
          "output_type": "execute_result"
        }
      ],
      "source": [
        "#중복 없음\n",
        "product.duplicated().sum()"
      ]
    },
    {
      "cell_type": "code",
      "execution_count": 6,
      "metadata": {
        "colab": {
          "base_uri": "https://localhost:8080/"
        },
        "id": "nASdI4K_AmcM",
        "outputId": "c106fe7d-d806-4d57-e7b1-26b9946c60e1"
      },
      "outputs": [
        {
          "name": "stdout",
          "output_type": "stream",
          "text": [
            "<class 'pandas.core.frame.DataFrame'>\n",
            "RangeIndex: 44446 entries, 0 to 44445\n",
            "Data columns (total 10 columns):\n",
            " #   Column              Non-Null Count  Dtype \n",
            "---  ------              --------------  ----- \n",
            " 0   id                  44446 non-null  int64 \n",
            " 1   gender              44446 non-null  object\n",
            " 2   masterCategory      44446 non-null  object\n",
            " 3   subCategory         44446 non-null  object\n",
            " 4   articleType         44446 non-null  object\n",
            " 5   baseColour          44446 non-null  object\n",
            " 6   season              44446 non-null  object\n",
            " 7   year                44446 non-null  object\n",
            " 8   usage               44446 non-null  object\n",
            " 9   productDisplayName  44446 non-null  object\n",
            "dtypes: int64(1), object(9)\n",
            "memory usage: 3.4+ MB\n"
          ]
        }
      ],
      "source": [
        "product.info()"
      ]
    },
    {
      "cell_type": "code",
      "execution_count": 7,
      "metadata": {
        "colab": {
          "base_uri": "https://localhost:8080/",
          "height": 423
        },
        "id": "wcbRH-zxog5E",
        "outputId": "5340fcf0-7bb9-45a9-9601-cf11de3d1736"
      },
      "outputs": [
        {
          "data": {
            "text/html": [
              "<div>\n",
              "<style scoped>\n",
              "    .dataframe tbody tr th:only-of-type {\n",
              "        vertical-align: middle;\n",
              "    }\n",
              "\n",
              "    .dataframe tbody tr th {\n",
              "        vertical-align: top;\n",
              "    }\n",
              "\n",
              "    .dataframe thead th {\n",
              "        text-align: right;\n",
              "    }\n",
              "</style>\n",
              "<table border=\"1\" class=\"dataframe\">\n",
              "  <thead>\n",
              "    <tr style=\"text-align: right;\">\n",
              "      <th></th>\n",
              "      <th>product_id</th>\n",
              "      <th>gender</th>\n",
              "      <th>masterCategory</th>\n",
              "      <th>subCategory</th>\n",
              "      <th>articleType</th>\n",
              "      <th>baseColour</th>\n",
              "      <th>season</th>\n",
              "      <th>year</th>\n",
              "      <th>usage</th>\n",
              "      <th>productDisplayName</th>\n",
              "    </tr>\n",
              "  </thead>\n",
              "  <tbody>\n",
              "    <tr>\n",
              "      <th>0</th>\n",
              "      <td>15970</td>\n",
              "      <td>Men</td>\n",
              "      <td>Apparel</td>\n",
              "      <td>Topwear</td>\n",
              "      <td>Shirts</td>\n",
              "      <td>Navy Blue</td>\n",
              "      <td>Fall</td>\n",
              "      <td>2011.0</td>\n",
              "      <td>Casual</td>\n",
              "      <td>Turtle Check Men Navy Blue Shirt</td>\n",
              "    </tr>\n",
              "    <tr>\n",
              "      <th>1</th>\n",
              "      <td>39386</td>\n",
              "      <td>Men</td>\n",
              "      <td>Apparel</td>\n",
              "      <td>Bottomwear</td>\n",
              "      <td>Jeans</td>\n",
              "      <td>Blue</td>\n",
              "      <td>Summer</td>\n",
              "      <td>2012.0</td>\n",
              "      <td>Casual</td>\n",
              "      <td>Peter England Men Party Blue Jeans</td>\n",
              "    </tr>\n",
              "    <tr>\n",
              "      <th>2</th>\n",
              "      <td>59263</td>\n",
              "      <td>Women</td>\n",
              "      <td>Accessories</td>\n",
              "      <td>Watches</td>\n",
              "      <td>Watches</td>\n",
              "      <td>Silver</td>\n",
              "      <td>Winter</td>\n",
              "      <td>2016.0</td>\n",
              "      <td>Casual</td>\n",
              "      <td>Titan Women Silver Watch</td>\n",
              "    </tr>\n",
              "    <tr>\n",
              "      <th>3</th>\n",
              "      <td>21379</td>\n",
              "      <td>Men</td>\n",
              "      <td>Apparel</td>\n",
              "      <td>Bottomwear</td>\n",
              "      <td>Track Pants</td>\n",
              "      <td>Black</td>\n",
              "      <td>Fall</td>\n",
              "      <td>2011.0</td>\n",
              "      <td>Casual</td>\n",
              "      <td>Manchester United Men Solid Black Track Pants</td>\n",
              "    </tr>\n",
              "    <tr>\n",
              "      <th>4</th>\n",
              "      <td>53759</td>\n",
              "      <td>Men</td>\n",
              "      <td>Apparel</td>\n",
              "      <td>Topwear</td>\n",
              "      <td>Tshirts</td>\n",
              "      <td>Grey</td>\n",
              "      <td>Summer</td>\n",
              "      <td>2012.0</td>\n",
              "      <td>Casual</td>\n",
              "      <td>Puma Men Grey T-shirt</td>\n",
              "    </tr>\n",
              "    <tr>\n",
              "      <th>...</th>\n",
              "      <td>...</td>\n",
              "      <td>...</td>\n",
              "      <td>...</td>\n",
              "      <td>...</td>\n",
              "      <td>...</td>\n",
              "      <td>...</td>\n",
              "      <td>...</td>\n",
              "      <td>...</td>\n",
              "      <td>...</td>\n",
              "      <td>...</td>\n",
              "    </tr>\n",
              "    <tr>\n",
              "      <th>44441</th>\n",
              "      <td>17036</td>\n",
              "      <td>Men</td>\n",
              "      <td>Footwear</td>\n",
              "      <td>Shoes</td>\n",
              "      <td>Casual Shoes</td>\n",
              "      <td>White</td>\n",
              "      <td>Summer</td>\n",
              "      <td>2013.0</td>\n",
              "      <td>Casual</td>\n",
              "      <td>Gas Men Caddy Casual Shoe</td>\n",
              "    </tr>\n",
              "    <tr>\n",
              "      <th>44442</th>\n",
              "      <td>6461</td>\n",
              "      <td>Men</td>\n",
              "      <td>Footwear</td>\n",
              "      <td>Flip Flops</td>\n",
              "      <td>Flip Flops</td>\n",
              "      <td>Red</td>\n",
              "      <td>Summer</td>\n",
              "      <td>2011.0</td>\n",
              "      <td>Casual</td>\n",
              "      <td>Lotto Men's Soccer Track Flip Flop</td>\n",
              "    </tr>\n",
              "    <tr>\n",
              "      <th>44443</th>\n",
              "      <td>18842</td>\n",
              "      <td>Men</td>\n",
              "      <td>Apparel</td>\n",
              "      <td>Topwear</td>\n",
              "      <td>Tshirts</td>\n",
              "      <td>Blue</td>\n",
              "      <td>Fall</td>\n",
              "      <td>2011.0</td>\n",
              "      <td>Casual</td>\n",
              "      <td>Puma Men Graphic Stellar Blue Tshirt</td>\n",
              "    </tr>\n",
              "    <tr>\n",
              "      <th>44444</th>\n",
              "      <td>46694</td>\n",
              "      <td>Women</td>\n",
              "      <td>Personal Care</td>\n",
              "      <td>Fragrance</td>\n",
              "      <td>Perfume and Body Mist</td>\n",
              "      <td>Blue</td>\n",
              "      <td>Spring</td>\n",
              "      <td>2017.0</td>\n",
              "      <td>Casual</td>\n",
              "      <td>Rasasi Women Blue Lady Perfume</td>\n",
              "    </tr>\n",
              "    <tr>\n",
              "      <th>44445</th>\n",
              "      <td>51623</td>\n",
              "      <td>Women</td>\n",
              "      <td>Accessories</td>\n",
              "      <td>Watches</td>\n",
              "      <td>Watches</td>\n",
              "      <td>Pink</td>\n",
              "      <td>Winter</td>\n",
              "      <td>2016.0</td>\n",
              "      <td>Casual</td>\n",
              "      <td>Fossil Women Pink Dial Chronograph Watch ES3050</td>\n",
              "    </tr>\n",
              "  </tbody>\n",
              "</table>\n",
              "<p>44446 rows × 10 columns</p>\n",
              "</div>"
            ],
            "text/plain": [
              "       product_id gender masterCategory subCategory            articleType  \\\n",
              "0           15970    Men        Apparel     Topwear                 Shirts   \n",
              "1           39386    Men        Apparel  Bottomwear                  Jeans   \n",
              "2           59263  Women    Accessories     Watches                Watches   \n",
              "3           21379    Men        Apparel  Bottomwear            Track Pants   \n",
              "4           53759    Men        Apparel     Topwear                Tshirts   \n",
              "...           ...    ...            ...         ...                    ...   \n",
              "44441       17036    Men       Footwear       Shoes           Casual Shoes   \n",
              "44442        6461    Men       Footwear  Flip Flops             Flip Flops   \n",
              "44443       18842    Men        Apparel     Topwear                Tshirts   \n",
              "44444       46694  Women  Personal Care   Fragrance  Perfume and Body Mist   \n",
              "44445       51623  Women    Accessories     Watches                Watches   \n",
              "\n",
              "      baseColour  season    year   usage  \\\n",
              "0      Navy Blue    Fall  2011.0  Casual   \n",
              "1           Blue  Summer  2012.0  Casual   \n",
              "2         Silver  Winter  2016.0  Casual   \n",
              "3          Black    Fall  2011.0  Casual   \n",
              "4           Grey  Summer  2012.0  Casual   \n",
              "...          ...     ...     ...     ...   \n",
              "44441      White  Summer  2013.0  Casual   \n",
              "44442        Red  Summer  2011.0  Casual   \n",
              "44443       Blue    Fall  2011.0  Casual   \n",
              "44444       Blue  Spring  2017.0  Casual   \n",
              "44445       Pink  Winter  2016.0  Casual   \n",
              "\n",
              "                                    productDisplayName  \n",
              "0                     Turtle Check Men Navy Blue Shirt  \n",
              "1                   Peter England Men Party Blue Jeans  \n",
              "2                             Titan Women Silver Watch  \n",
              "3        Manchester United Men Solid Black Track Pants  \n",
              "4                                Puma Men Grey T-shirt  \n",
              "...                                                ...  \n",
              "44441                        Gas Men Caddy Casual Shoe  \n",
              "44442               Lotto Men's Soccer Track Flip Flop  \n",
              "44443             Puma Men Graphic Stellar Blue Tshirt  \n",
              "44444                   Rasasi Women Blue Lady Perfume  \n",
              "44445  Fossil Women Pink Dial Chronograph Watch ES3050  \n",
              "\n",
              "[44446 rows x 10 columns]"
            ]
          },
          "execution_count": 7,
          "metadata": {},
          "output_type": "execute_result"
        }
      ],
      "source": [
        "# 특성 이름 transaction_new 테이블과 통일\n",
        "product.rename(columns = {'id' : 'product_id'})"
      ]
    },
    {
      "cell_type": "code",
      "execution_count": 8,
      "metadata": {
        "id": "HOe_pcwTA5zA"
      },
      "outputs": [],
      "source": [
        "# productDisplayName에서 첫번째 단어를 브랜드명으로 간주\n",
        "# 데이터 확인 후 최대한 구분 기준을 세부화했으나 약 3000개 정도 구분점 설정 실패 -> 그냥 첫번째 글자를 브랜드명으로 쓰기로 결정\n",
        "brand = product.productDisplayName.str.split().str[0]\n",
        "brand = brand.str.lower()\n",
        "product['brand'] = brand.str.lower()"
      ]
    },
    {
      "cell_type": "code",
      "execution_count": 9,
      "metadata": {
        "id": "KUPHq6LoB0-T"
      },
      "outputs": [],
      "source": [
        "#사용하지 않는 특성 제거\n",
        "product.drop(columns = 'year', inplace = True)"
      ]
    },
    {
      "cell_type": "code",
      "execution_count": 10,
      "metadata": {
        "id": "-VVPk0JVCtMR"
      },
      "outputs": [],
      "source": [
        "product.to_csv('product_final.csv', index = False)"
      ]
    },
    {
      "cell_type": "markdown",
      "metadata": {
        "id": "6FKWw3-ueHca"
      },
      "source": [
        "### click_stream_new 데이터 전처리 통합"
      ]
    },
    {
      "cell_type": "code",
      "execution_count": 11,
      "metadata": {
        "colab": {
          "base_uri": "https://localhost:8080/"
        },
        "id": "ZapCO2SCajI-",
        "outputId": "f966f0ae-2a67-4a6b-e54f-de54386429e9"
      },
      "outputs": [
        {
          "name": "stdout",
          "output_type": "stream",
          "text": [
            "<class 'pandas.core.frame.DataFrame'>\n",
            "RangeIndex: 12833602 entries, 0 to 12833601\n",
            "Data columns (total 12 columns):\n",
            " #   Column           Dtype  \n",
            "---  ------           -----  \n",
            " 0   session_id       object \n",
            " 1   event_name       object \n",
            " 2   event_time       object \n",
            " 3   event_id         object \n",
            " 4   traffic_source   object \n",
            " 5   product_id       float64\n",
            " 6   quantity         float64\n",
            " 7   item_price       float64\n",
            " 8   payment_status   object \n",
            " 9   search_keywords  object \n",
            " 10  promo_code       object \n",
            " 11  promo_amount     float64\n",
            "dtypes: float64(4), object(8)\n",
            "memory usage: 1.1+ GB\n"
          ]
        }
      ],
      "source": [
        "click_stream_new = pd.read_csv(base_path + '/click_stream_new.csv')\n",
        "click_stream_new.info()"
      ]
    },
    {
      "cell_type": "code",
      "execution_count": 12,
      "metadata": {},
      "outputs": [],
      "source": [
        "# 컬럼명 수정\n",
        "click_stream_new.columns = click_stream_new.columns.str.strip()"
      ]
    },
    {
      "cell_type": "code",
      "execution_count": 13,
      "metadata": {},
      "outputs": [
        {
          "data": {
            "text/plain": [
              "session_id                0\n",
              "event_name                0\n",
              "event_time                0\n",
              "event_id                  0\n",
              "traffic_source            0\n",
              "product_id         10896445\n",
              "quantity           10896445\n",
              "item_price         10896445\n",
              "payment_status     11981020\n",
              "search_keywords    11660336\n",
              "promo_code         12507067\n",
              "promo_amount       12507067\n",
              "dtype: int64"
            ]
          },
          "execution_count": 13,
          "metadata": {},
          "output_type": "execute_result"
        }
      ],
      "source": [
        "# 결측치 확인\n",
        "click_stream_new.isnull().sum()"
      ]
    },
    {
      "cell_type": "code",
      "execution_count": 14,
      "metadata": {
        "colab": {
          "base_uri": "https://localhost:8080/"
        },
        "id": "bWIMm3vDF3cx",
        "outputId": "e101f014-911f-402a-9135-44bd807da0da"
      },
      "outputs": [
        {
          "data": {
            "text/plain": [
              "0"
            ]
          },
          "execution_count": 14,
          "metadata": {},
          "output_type": "execute_result"
        }
      ],
      "source": [
        "#중복값 없음\n",
        "click_stream_new.duplicated().sum()"
      ]
    },
    {
      "cell_type": "code",
      "execution_count": 15,
      "metadata": {
        "colab": {
          "base_uri": "https://localhost:8080/"
        },
        "id": "eSk2Ppn_HTZL",
        "outputId": "499cf460-8d40-43db-deaa-f1e01019e6e8"
      },
      "outputs": [],
      "source": [
        "# 데이터 타입 설정\n",
        "click_stream_new['event_time'] = pd.to_datetime(click_stream_new['event_time'])\n",
        "\n",
        "# 기간 조정 (2020-08 ~ 2022-07)\n",
        "click_stream_new = click_stream_new[(click_stream_new['event_time'] >= '2020-08-01') & (click_stream_new['event_time'] <= '2022-07-31')]\n",
        "\n",
        "# 결측치 대체\n",
        "cols = ['quantity', 'item_price', 'promo_amount']\n",
        "for col in cols:\n",
        "    replace_NaN(click_stream_new, col, 0)\n",
        "\n",
        "# promo code 변환 / 0 : promo_code를 사용하지 않은 경우\n",
        "promo_code_mapping = {'AZ2022': 1, 'BUYMORE': 2, 'WEEKENDSERU': 3, 'XX2022': 4, 'LIBURDONG': 5, 'WEEKENDMANTAP': 6, 'SC2022': 7, 'STARTUP': 8}\n",
        "click_stream_new['promo_code'] = click_stream_new['promo_code'].map(promo_code_mapping).fillna(0)\n",
        "\n",
        "# Success :1 / Failed :0 으로 변환 후 카테고리로 변환\n",
        "click_stream_new['payment_status'] = click_stream_new['payment_status'].map({'Success' : 1, 'Failed' : 0})\n",
        "\n",
        "# 사용하지 않는 컬럼 제거\n",
        "click_stream_new.drop(columns = ['event_id'] , inplace = True)\n",
        "\n",
        "# session_id, 시간 기준으로 오름차순 정렬\n",
        "click_stream_new.sort_values(by=['session_id', 'event_time'], inplace=True)"
      ]
    },
    {
      "cell_type": "code",
      "execution_count": 16,
      "metadata": {},
      "outputs": [],
      "source": [
        "# search_keywords 번역\n",
        "    # 1등 Dress Kondangan -> Dress\n",
        "    # 2등 Tas Wanita -> 여성용 가방\n",
        "    # 3등 Bekas -> 중고(*)\n",
        "    # 5등 Kaos -> 셔츠\n",
        "    # 6등 Baju -> Blouse\n",
        "    # 7등 Dress Pesta -> Dress\n",
        "    # 8등 Sepatu NIKE -> 나이키 구두\n",
        "    # 9등 Tas Kerja -> 업무용 가방\n",
        "    # 10등 Second -> 중고(*)\n",
        "    # 11등 Sepatu -> 구두\n",
        "    # 12등 Second Hand -> 중고(*)\n",
        "    # 13등 Thrift -> 중고(*)\n",
        "    # 14등 Celana Panjang -> 긴 바지\n",
        "    # 15등 Berang Bekas -> 중고 상품(*)\n",
        "    # 16등 Sepatu Adidas -> 아디다스 구두\n",
        "    # 17등 Celana -> 바지\n",
        "    # 20등 jam -> watch\n",
        "    # 21등 Topi -> 모자\n",
        "    # 22등 Baju Tidur -> 잠옷\n",
        "    # 23등 Daster -> 하우스 드레스"
      ]
    },
    {
      "cell_type": "code",
      "execution_count": 17,
      "metadata": {},
      "outputs": [
        {
          "data": {
            "text/plain": [
              "array([nan, 'Shirts', 'Dress', 'Adidas Shoes', 'Nike Shoes', 'Trousers',\n",
              "       'Shoes', 'T-Shirt', \"Woman's Bag\", 'Second Hand', 'Work Bag',\n",
              "       'Watch', 'Sandal', 'Hat', 'Pajamas', 'House dress'], dtype=object)"
            ]
          },
          "execution_count": 17,
          "metadata": {},
          "output_type": "execute_result"
        }
      ],
      "source": [
        "# Search Keywords 번역 적용\n",
        "search_dict = {'Dress Kondangan':'Dress', 'Tas Wanita':'Woman\\'s Bag', 'Bekas':'Second Hand', 'T-shirt':'T-Shirt',\n",
        "               'Kaos':'Shirts', 'Baju':'Shirts', 'Dress Pesta':'Dress', 'Sepatu Nike':'Nike Shoes', 'Tas Kerja':'Work Bag',\n",
        "               'Second':'Second Hand', 'Sepatu':'Shoes', 'Thrift':'Second Hand', 'Celana Panjang':'Trousers',\n",
        "               'Barang Bekas':'Second Hand', 'Sepatu Adidas':'Adidas Shoes', 'Celana':'Trousers', 'Sendal':'Sandal',\n",
        "               'Jam':'Watch', 'Topi':'Hat', 'Baju Tidur':'Pajamas', 'Daster':'House dress'}\n",
        "click_stream_new.search_keywords = click_stream_new.search_keywords.replace(search_dict)\n",
        "click_stream_new.search_keywords.unique()"
      ]
    },
    {
      "cell_type": "code",
      "execution_count": 18,
      "metadata": {
        "id": "6KGR0YYeJb_s"
      },
      "outputs": [],
      "source": [
        "click_stream_new.to_csv('click_stream_final.csv', index = False)"
      ]
    },
    {
      "cell_type": "markdown",
      "metadata": {
        "id": "eh5KdunyqDiX"
      },
      "source": [
        "### customer 데이터 전처리 통합"
      ]
    },
    {
      "cell_type": "code",
      "execution_count": 19,
      "metadata": {
        "id": "V-aP92lSKyNO"
      },
      "outputs": [
        {
          "name": "stdout",
          "output_type": "stream",
          "text": [
            "<class 'pandas.core.frame.DataFrame'>\n",
            "RangeIndex: 100000 entries, 0 to 99999\n",
            "Data columns (total 5 columns):\n",
            " #   Column           Non-Null Count   Dtype \n",
            "---  ------           --------------   ----- \n",
            " 0   customer_id      100000 non-null  int64 \n",
            " 1   gender           100000 non-null  object\n",
            " 2   birthdate        100000 non-null  object\n",
            " 3   home_location    100000 non-null  object\n",
            " 4   first_join_date  100000 non-null  object\n",
            "dtypes: int64(1), object(4)\n",
            "memory usage: 3.8+ MB\n"
          ]
        }
      ],
      "source": [
        "# 데이터 로드\n",
        "customer = pd.read_csv(base_path + '/customer.csv', usecols = ['customer_id', 'gender', 'birthdate', 'home_location', 'first_join_date'])\n",
        "customer.info()"
      ]
    },
    {
      "cell_type": "code",
      "execution_count": 20,
      "metadata": {
        "colab": {
          "base_uri": "https://localhost:8080/"
        },
        "id": "qz10WF1nLeC0",
        "outputId": "94a0bb46-79a0-466f-b435-508b9985bf22"
      },
      "outputs": [
        {
          "data": {
            "text/plain": [
              "customer_id        0\n",
              "gender             0\n",
              "birthdate          0\n",
              "home_location      0\n",
              "first_join_date    0\n",
              "dtype: int64"
            ]
          },
          "execution_count": 20,
          "metadata": {},
          "output_type": "execute_result"
        }
      ],
      "source": [
        "# null값 없음\n",
        "customer.isnull().sum()"
      ]
    },
    {
      "cell_type": "code",
      "execution_count": 21,
      "metadata": {
        "colab": {
          "base_uri": "https://localhost:8080/"
        },
        "id": "LkTy17H9LjoG",
        "outputId": "29980dcf-b5e7-4d4d-d48c-847f256a2976"
      },
      "outputs": [
        {
          "data": {
            "text/plain": [
              "0"
            ]
          },
          "execution_count": 21,
          "metadata": {},
          "output_type": "execute_result"
        }
      ],
      "source": [
        "# 중복값 없음\n",
        "customer.duplicated().sum()"
      ]
    },
    {
      "cell_type": "code",
      "execution_count": 22,
      "metadata": {
        "id": "9g7lfU0WLE6M"
      },
      "outputs": [],
      "source": [
        "# 데이터 타입 변경\n",
        "customer['first_join_date'] = pd.to_datetime(customer['first_join_date'])\n",
        "customer['birthdate'] = pd.to_datetime(customer['birthdate'])"
      ]
    },
    {
      "cell_type": "code",
      "execution_count": 23,
      "metadata": {
        "id": "FhuefDAK6bZm"
      },
      "outputs": [],
      "source": [
        "#가입 일자 기준 나이 & 현재 기준 나이 컬럼 생성\n",
        "customer['age_join'] = (customer['first_join_date'].dt.year - customer['birthdate'].dt.year).astype('int')\n",
        "customer['age_now'] = (2022 - customer['birthdate'].dt.year).astype('int')"
      ]
    },
    {
      "cell_type": "code",
      "execution_count": 24,
      "metadata": {
        "colab": {
          "base_uri": "https://localhost:8080/"
        },
        "id": "nODDYMDV6Cga",
        "outputId": "288756b6-78f6-409e-b2cb-67b75aa9cac5"
      },
      "outputs": [
        {
          "name": "stdout",
          "output_type": "stream",
          "text": [
            "<class 'pandas.core.frame.DataFrame'>\n",
            "RangeIndex: 100000 entries, 0 to 99999\n",
            "Data columns (total 7 columns):\n",
            " #   Column           Non-Null Count   Dtype         \n",
            "---  ------           --------------   -----         \n",
            " 0   customer_id      100000 non-null  int64         \n",
            " 1   gender           100000 non-null  object        \n",
            " 2   birthdate        100000 non-null  datetime64[ns]\n",
            " 3   home_location    100000 non-null  object        \n",
            " 4   first_join_date  100000 non-null  datetime64[ns]\n",
            " 5   age_join         100000 non-null  int64         \n",
            " 6   age_now          100000 non-null  int64         \n",
            "dtypes: datetime64[ns](2), int64(3), object(2)\n",
            "memory usage: 5.3+ MB\n"
          ]
        }
      ],
      "source": [
        "customer.info()"
      ]
    },
    {
      "cell_type": "code",
      "execution_count": 25,
      "metadata": {},
      "outputs": [],
      "source": [
        "# customer_id 51844 제거 (회원가입은 되어있지만, click_stream_new 테이블에서 session_id가 누락된 고객이기 때문에 제거 결정)\n",
        "customer = customer.drop(customer[customer['customer_id'] == 51844].index)"
      ]
    },
    {
      "cell_type": "code",
      "execution_count": 26,
      "metadata": {
        "id": "4-5rnnyw1Iaa"
      },
      "outputs": [],
      "source": [
        "customer.to_csv('customer_final.csv', index = False)"
      ]
    },
    {
      "cell_type": "markdown",
      "metadata": {
        "id": "o-SEViBXuSgG"
      },
      "source": [
        "### transaction_new 데이터 전처리 통합"
      ]
    },
    {
      "cell_type": "code",
      "execution_count": 27,
      "metadata": {
        "id": "E10OOmlwuQ8J"
      },
      "outputs": [
        {
          "name": "stdout",
          "output_type": "stream",
          "text": [
            "<class 'pandas.core.frame.DataFrame'>\n",
            "RangeIndex: 1254585 entries, 0 to 1254584\n",
            "Data columns (total 16 columns):\n",
            " #   Column                  Non-Null Count    Dtype  \n",
            "---  ------                  --------------    -----  \n",
            " 0   created_at              1254585 non-null  object \n",
            " 1   customer_id             1254585 non-null  int64  \n",
            " 2   booking_id              1254585 non-null  object \n",
            " 3   session_id              1254585 non-null  object \n",
            " 4   payment_method          1254585 non-null  object \n",
            " 5   payment_status          1254585 non-null  object \n",
            " 6   promo_amount            1254585 non-null  int64  \n",
            " 7   promo_code              481139 non-null   object \n",
            " 8   shipment_fee            1254585 non-null  int64  \n",
            " 9   shipment_date_limit     1254585 non-null  object \n",
            " 10  shipment_location_lat   1254585 non-null  float64\n",
            " 11  shipment_location_long  1254585 non-null  float64\n",
            " 12  total_amount            1254585 non-null  int64  \n",
            " 13  product_id              1254585 non-null  int64  \n",
            " 14  quantity                1254585 non-null  int64  \n",
            " 15  item_price              1254585 non-null  int64  \n",
            "dtypes: float64(2), int64(7), object(7)\n",
            "memory usage: 153.1+ MB\n"
          ]
        }
      ],
      "source": [
        "transaction_new = pd.read_csv(base_path + '/transaction_new.csv')\n",
        "transaction_new.info()"
      ]
    },
    {
      "cell_type": "code",
      "execution_count": 28,
      "metadata": {
        "colab": {
          "base_uri": "https://localhost:8080/"
        },
        "id": "y15fpKiUOdFS",
        "outputId": "3541a3b9-3eed-41fd-c95b-1f5283865cbd"
      },
      "outputs": [
        {
          "name": "stdout",
          "output_type": "stream",
          "text": [
            "<class 'pandas.core.frame.DataFrame'>\n",
            "RangeIndex: 1254585 entries, 0 to 1254584\n",
            "Data columns (total 16 columns):\n",
            " #   Column                  Non-Null Count    Dtype  \n",
            "---  ------                  --------------    -----  \n",
            " 0   created_at              1254585 non-null  object \n",
            " 1   customer_id             1254585 non-null  int64  \n",
            " 2   booking_id              1254585 non-null  object \n",
            " 3   session_id              1254585 non-null  object \n",
            " 4   payment_method          1254585 non-null  object \n",
            " 5   payment_status          1254585 non-null  object \n",
            " 6   promo_amount            1254585 non-null  int64  \n",
            " 7   promo_code              481139 non-null   object \n",
            " 8   shipment_fee            1254585 non-null  int64  \n",
            " 9   shipment_date_limit     1254585 non-null  object \n",
            " 10  shipment_location_lat   1254585 non-null  float64\n",
            " 11  shipment_location_long  1254585 non-null  float64\n",
            " 12  total_amount            1254585 non-null  int64  \n",
            " 13  product_id              1254585 non-null  int64  \n",
            " 14  quantity                1254585 non-null  int64  \n",
            " 15  item_price              1254585 non-null  int64  \n",
            "dtypes: float64(2), int64(7), object(7)\n",
            "memory usage: 153.1+ MB\n"
          ]
        }
      ],
      "source": [
        "transaction_new.info()"
      ]
    },
    {
      "cell_type": "code",
      "execution_count": 29,
      "metadata": {
        "colab": {
          "base_uri": "https://localhost:8080/"
        },
        "id": "A8266VhTOERx",
        "outputId": "2a41f406-f7d9-48f8-f104-76b6fe8263f6"
      },
      "outputs": [
        {
          "data": {
            "text/plain": [
              "created_at                     0\n",
              "customer_id                    0\n",
              "booking_id                     0\n",
              "session_id                     0\n",
              "payment_method                 0\n",
              "payment_status                 0\n",
              "promo_amount                   0\n",
              "promo_code                773446\n",
              "shipment_fee                   0\n",
              "shipment_date_limit            0\n",
              "shipment_location_lat          0\n",
              "shipment_location_long         0\n",
              "total_amount                   0\n",
              "product_id                     0\n",
              "quantity                       0\n",
              "item_price                     0\n",
              "dtype: int64"
            ]
          },
          "execution_count": 29,
          "metadata": {},
          "output_type": "execute_result"
        }
      ],
      "source": [
        "# promo_code에만 결측치 / 0으로 대체\n",
        "transaction_new.isnull().sum()"
      ]
    },
    {
      "cell_type": "code",
      "execution_count": 30,
      "metadata": {
        "colab": {
          "base_uri": "https://localhost:8080/"
        },
        "id": "9WVSo48wOOMB",
        "outputId": "d5321c84-b6bf-4eab-c3ce-d3afa74c566a"
      },
      "outputs": [
        {
          "data": {
            "text/plain": [
              "0"
            ]
          },
          "execution_count": 30,
          "metadata": {},
          "output_type": "execute_result"
        }
      ],
      "source": [
        "# 중복값 없음\n",
        "transaction_new.duplicated().sum()"
      ]
    },
    {
      "cell_type": "code",
      "execution_count": 31,
      "metadata": {
        "id": "qK-1YK7uOHLG"
      },
      "outputs": [],
      "source": [
        "# 데이터 타입 변환\n",
        "transaction_new['created_at'] = pd.to_datetime(transaction_new['created_at'])\n",
        "\n",
        "# 기간 조정 (2020-08 ~ 2022-07)\n",
        "transaction_new = transaction_new[(transaction_new['created_at'] >= '2020-08-01') & (transaction_new['created_at'] <= '2022-07-31')]\n",
        "\n",
        "# Success :1 / Failed :0 으로 변환\n",
        "transaction_new['payment_status'] = transaction_new['payment_status'].map({'Success' : 1, 'Failed' : 0})\n",
        "\n",
        "# promo code 변환 / 0 : promo_code를 사용하지 않은 경우\n",
        "# promo_code_mapping = {'AZ2022': 1, 'BUYMORE': 2, 'WEEKENDSERU': 3, 'XX2022': 4, 'LIBURDONG': 5, 'WEEKENDMANTAP': 6, 'SC2022': 7, 'STARTUP': 8}\n",
        "transaction_new['promo_code'] = transaction_new['promo_code'].map(promo_code_mapping).fillna(0).astype('category')\n",
        "\n",
        "# promocode 사용 여부\n",
        "transaction_new['with_promo'] = transaction_new['promo_code'].apply(lambda x: 1 if x != 0 else 0).astype('category')\n",
        "\n",
        "# 사용하지 않는 컬럼 제거\n",
        "transaction_new.drop(columns = ['shipment_date_limit', 'shipment_location_lat', 'shipment_location_long'], inplace = True)\n",
        "\n",
        "transaction_new['quantity'] = transaction_new['quantity'].astype('int')\n"
      ]
    },
    {
      "cell_type": "code",
      "execution_count": 32,
      "metadata": {
        "colab": {
          "base_uri": "https://localhost:8080/"
        },
        "id": "XkFg0u4wOnt9",
        "outputId": "c807bb81-6ce4-4f3b-9ec5-3e46283a47be"
      },
      "outputs": [
        {
          "name": "stdout",
          "output_type": "stream",
          "text": [
            "<class 'pandas.core.frame.DataFrame'>\n",
            "Int64Index: 781566 entries, 27 to 1254582\n",
            "Data columns (total 14 columns):\n",
            " #   Column          Non-Null Count   Dtype              \n",
            "---  ------          --------------   -----              \n",
            " 0   created_at      781566 non-null  datetime64[ns, UTC]\n",
            " 1   customer_id     781566 non-null  int64              \n",
            " 2   booking_id      781566 non-null  object             \n",
            " 3   session_id      781566 non-null  object             \n",
            " 4   payment_method  781566 non-null  object             \n",
            " 5   payment_status  781566 non-null  int64              \n",
            " 6   promo_amount    781566 non-null  int64              \n",
            " 7   promo_code      781566 non-null  category           \n",
            " 8   shipment_fee    781566 non-null  int64              \n",
            " 9   total_amount    781566 non-null  int64              \n",
            " 10  product_id      781566 non-null  int64              \n",
            " 11  quantity        781566 non-null  int64              \n",
            " 12  item_price      781566 non-null  int64              \n",
            " 13  with_promo      781566 non-null  category           \n",
            "dtypes: category(2), datetime64[ns, UTC](1), int64(8), object(3)\n",
            "memory usage: 79.0+ MB\n"
          ]
        }
      ],
      "source": [
        "transaction_new.info()"
      ]
    },
    {
      "cell_type": "code",
      "execution_count": 33,
      "metadata": {},
      "outputs": [],
      "source": [
        "# customer_id 51844 제거 \n",
        "# 해당 transaction_new 테이블에서의 session_id가 click_stream_new 테이블에서 누락되어 제거 결정)\n",
        "transaction_new = transaction_new.drop(transaction_new[transaction_new['customer_id'] == 51844].index)"
      ]
    },
    {
      "cell_type": "code",
      "execution_count": 34,
      "metadata": {
        "id": "52lRNjSATv23"
      },
      "outputs": [],
      "source": [
        "transaction_new.to_csv('transaction_final.csv', index = False)"
      ]
    }
  ],
  "metadata": {
    "colab": {
      "authorship_tag": "ABX9TyPMT/b/3VgvLYVHmde5x738",
      "collapsed_sections": [
        "MtCi_nKnpKzY",
        "2-clfA_2OEo1"
      ],
      "include_colab_link": true,
      "provenance": []
    },
    "kernelspec": {
      "display_name": "Python 3",
      "name": "python3"
    },
    "language_info": {
      "codemirror_mode": {
        "name": "ipython",
        "version": 3
      },
      "file_extension": ".py",
      "mimetype": "text/x-python",
      "name": "python",
      "nbconvert_exporter": "python",
      "pygments_lexer": "ipython3",
      "version": "3.8.17"
    }
  },
  "nbformat": 4,
  "nbformat_minor": 0
}
